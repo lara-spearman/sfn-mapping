{
 "cells": [
  {
   "cell_type": "code",
   "execution_count": 2,
   "id": "2e827c1e",
   "metadata": {},
   "outputs": [],
   "source": [
    "import pandas as pd\n",
    "import numpy as np\n",
    "from os import listdir\n",
    "import openpyxl\n",
    "from datetime import datetime\n",
    "pd.options.mode.chained_assignment = None"
   ]
  },
  {
   "cell_type": "code",
   "execution_count": 3,
   "id": "008dcce0",
   "metadata": {},
   "outputs": [],
   "source": [
    "# Set location \n",
    "location = \"home\"\n",
    "\n",
    "if location == \"home\":\n",
    "    location_data = \"C:/Users/Lara/Work/SFN/Forms\"\n",
    "elif location == \"work\":\n",
    "    location_data = \"O:/SNF/SNF_mapping_2025/Excel_forms\""
   ]
  },
  {
   "cell_type": "code",
   "execution_count": null,
   "id": "292bc7a8",
   "metadata": {},
   "outputs": [
    {
     "name": "stdout",
     "output_type": "stream",
     "text": [
      "Old/SFN mapping form Climate Farm Demo IfA_MD_LB.xlsx\n"
     ]
    },
    {
     "ename": "AssertionError",
     "evalue": "Missing postcode",
     "output_type": "error",
     "traceback": [
      "\u001b[31m---------------------------------------------------------------------------\u001b[39m",
      "\u001b[31mAssertionError\u001b[39m                            Traceback (most recent call last)",
      "\u001b[36mCell\u001b[39m\u001b[36m \u001b[39m\u001b[32mIn[34]\u001b[39m\u001b[32m, line 41\u001b[39m\n\u001b[32m     39\u001b[39m postcode_list = df_postcode.iloc[:,\u001b[32m2\u001b[39m:].values.flatten().tolist()\n\u001b[32m     40\u001b[39m \u001b[38;5;66;03m# Check no missing postcode\u001b[39;00m\n\u001b[32m---> \u001b[39m\u001b[32m41\u001b[39m \u001b[38;5;28;01massert\u001b[39;00m pd.isna(postcode_list).any() == \u001b[38;5;28;01mFalse\u001b[39;00m, \u001b[33m\"\u001b[39m\u001b[33mMissing postcode\u001b[39m\u001b[33m\"\u001b[39m\n\u001b[32m     43\u001b[39m \u001b[38;5;66;03m# Select rows with information we need\u001b[39;00m\n\u001b[32m     44\u001b[39m df_clean = df.iloc[\u001b[32m13\u001b[39m:\u001b[32m52\u001b[39m,:]\n",
      "\u001b[31mAssertionError\u001b[39m: Missing postcode"
     ]
    }
   ],
   "source": [
    "# Set up dataset\n",
    "df_total = pd.DataFrame({ \"Farm number\":[],\"Network name\":[], \"Start year\":[], \"Web link\":[], \"Contact email\":[],\"Postcode\":[], \"Category\":[], \"Activity\":[] })\n",
    "    \n",
    "# Loop through files in forms folder\n",
    "for file in listdir(location_data):\n",
    "    # Only read in excel files\n",
    "    if file.endswith(\".xlsx\"):\n",
    "        print(file)\n",
    "\n",
    "        # Read in data\n",
    "        df = pd.read_excel(f\"{location_data}/{file}\")\n",
    "        \n",
    "        # Check data layout seems to be correct\n",
    "        assert  df.iloc[53,0] == \"Start year of farm's network membership\"\n",
    "        assert  df.iloc[12,2] == \"Farm\", \"Data is not in correct format\"\n",
    "        assert  df.iloc[15,0] == \"Postcode district eg CH8, SN10, M9\", \"Data is not in correct format\"\n",
    "    \n",
    "        # Check if form contains network web link\n",
    "        if pd.isna(df.iloc[4,2])==False:\n",
    "            # If form contains weblink, need to use openxyl to access\n",
    "            wb = openpyxl.load_workbook(f\"{location_data}/{file}\")\n",
    "            sheets = wb.sheetnames\n",
    "            ws = wb[sheets[0]]\n",
    "            network_web_link = ws.cell(row=6, column=3).hyperlink.target\n",
    "\n",
    "        # Set network name\n",
    "        network_name = df.iloc[4,1]\n",
    "        # Set network contact email\n",
    "        network_email = df.iloc[4,3]\n",
    "\n",
    "        # Get list of start years for each farm\n",
    "        df_year = df[df.iloc[:,0] == \"Start year of farm's network membership\"]\n",
    "        year_list = df_year.iloc[:,2:].values.flatten().tolist()\n",
    "        # Check no missing start year (removed for now as one form does not have start years)\n",
    "        # assert pd.isna(year_list).any() == False, \"Missing start year\"\n",
    "\n",
    "        # Get list of farm postcodes for each farm\n",
    "        df_postcode = df[df.iloc[:,0] == \"Postcode district eg CH8, SN10, M9\"]\n",
    "        postcode_list = df_postcode.iloc[:,2:].values.flatten().tolist()\n",
    "        # Check no missing postcode\n",
    "        assert pd.isna(postcode_list).any() == False, \"Missing postcode\"\n",
    "\n",
    "        # Select rows with information we need\n",
    "        df_clean = df.iloc[13:52,:]\n",
    "        df_clean.iloc[0,0] = \"Category\"\n",
    "        # Set first row as column headers and remove that row\n",
    "        df_clean.columns = df_clean.iloc[0]\n",
    "        df_clean = df_clean.iloc[1:]\n",
    "        df_clean.iloc[:,0]  = df_clean.iloc[:,0].ffill(axis = 0)\n",
    "        # Remove 2 uneeded rows in middle of dataframe\n",
    "        df_clean= df_clean.iloc[4:,:]\n",
    "\n",
    "        # Get list of farm numbers\n",
    "        farm_number_list = df_clean.iloc[:,2:].columns.tolist()\n",
    "        # Check no missing farm number\n",
    "        assert pd.isna(farm_number_list).any() == False, \"Missing Farm number\"\n",
    "        \n",
    "        # Convert dataframe from wide to long\n",
    "        df_melted = pd.melt(df_clean, id_vars = [\"Category\", np.nan], value_vars=farm_number_list, var_name=\"Farm number\")\n",
    "        #Remove all values with Na as not filled with x\n",
    "        df_filter = df_melted.dropna(subset = [\"value\"])\n",
    "        # Rename columns\n",
    "        df_filter = df_filter.rename({np.nan:\"Activity\"}, axis = 1)\n",
    "        # Remove value column\n",
    "        df_filter = df_filter.drop(\"value\", axis = 1)\n",
    "\n",
    "        # Template dataset \n",
    "        df_file = pd.DataFrame({  \"Farm number\":[],\"Network name\":[], \"Start year\":[], \"Web link\":[], \"Contact email\":[],\"Postcode\":[], \"Category\":[], \"Activity\":[]})\n",
    "        #Counter used in for loop\n",
    "        x = 0\n",
    "        # Loop through each farm in form\n",
    "        for farm in df_filter['Farm number'].unique():\n",
    "            df_farm = df_filter[df_filter[\"Farm number\"]== farm]\n",
    "            # Add relevant info for farm\n",
    "            df_farm['Postcode'] = postcode_list[x]\n",
    "            df_farm['Start year'] = year_list[x]\n",
    "            df_farm['Network name'] = network_name\n",
    "            df_farm['Web link'] = network_web_link\n",
    "            df_farm['Contact email'] = network_email\n",
    "            # Add one to counter to ensure relevant info is added\n",
    "            x+=1\n",
    "            df_file = pd.concat([df_file,df_farm])\n",
    "\n",
    "    df_total = pd.concat([df_total,df_file])\n",
    "\n",
    "    # Check that columns which should not have NA are complete\n",
    "    assert df_total[['Activity',\"Category\", \"Farm number\", \"Postcode\"]].isnull().values.any() == False, \"Column contains NA values\"\n",
    "\n",
    "# Write out to csv\n",
    "df_total.to_csv(f\"ExportData_{datetime.today().strftime('%Y_%m_%d')}.csv\", index = False)\n"
   ]
  },
  {
   "cell_type": "code",
   "execution_count": 29,
   "id": "8fb85e0a",
   "metadata": {},
   "outputs": [
    {
     "data": {
      "text/plain": [
       "array([1, 2, 3, 4, 5, 6, 7, 8, 9, 10, 11, 12, 13, 14, 15, 16, 17, 18, 19,\n",
       "       20, 21, 22, 23, 24, 25, 26, 27, 28, 29, 30, 31, 32, 33, 34, 35, 36,\n",
       "       37, 38, 39, 40, 41, 42, 43, 44, 45, 46, 47, 48, 49, 50, 51, 52, 53,\n",
       "       54, 55, 56, 57, 58, 59, 60, 61, 62, 63, 64, 65, 66, 67, 68, 69, 70,\n",
       "       71, 72, 73, 74, 75, 76, 77, 78, 79, 80, 81, 82, 83, 84, 85, 86, 87,\n",
       "       88, 89, 90, 91, 92, 93, 94, 95, 96, 97, 98, 99, 100, 101, 102, 103,\n",
       "       104, 105, 106, 107, 108, 109, 110, 111, 112, 113, 114, 115, 116,\n",
       "       117, 118, 119, 120, 121, 122, 123, 124, 125, 126, 127],\n",
       "      dtype=object)"
      ]
     },
     "execution_count": 29,
     "metadata": {},
     "output_type": "execute_result"
    }
   ],
   "source": [
    "df_filter['Farm number'].unique()"
   ]
  }
 ],
 "metadata": {
  "kernelspec": {
   "display_name": "sfn-mapping-env",
   "language": "python",
   "name": "python3"
  },
  "language_info": {
   "codemirror_mode": {
    "name": "ipython",
    "version": 3
   },
   "file_extension": ".py",
   "mimetype": "text/x-python",
   "name": "python",
   "nbconvert_exporter": "python",
   "pygments_lexer": "ipython3",
   "version": "3.13.5"
  }
 },
 "nbformat": 4,
 "nbformat_minor": 5
}
