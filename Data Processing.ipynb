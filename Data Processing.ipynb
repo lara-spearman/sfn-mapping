{
 "cells": [
  {
   "cell_type": "code",
   "execution_count": 1,
   "id": "2e827c1e",
   "metadata": {},
   "outputs": [],
   "source": [
    "import pandas as pd\n",
    "import numpy as np\n",
    "from os import listdir\n",
    "import openpyxl\n",
    "from datetime import datetime\n",
    "pd.options.mode.chained_assignment = None\n",
    "import geopandas as gpd"
   ]
  },
  {
   "cell_type": "code",
   "execution_count": 2,
   "id": "008dcce0",
   "metadata": {},
   "outputs": [],
   "source": [
    "# Set location \n",
    "location = \"home\"\n",
    "\n",
    "if location == \"home\":\n",
    "    location_data = \"C:/Users/Lara/Work/SFN/Forms\"\n",
    "elif location == \"work\":\n",
    "    location_data = \"O:/SNF/SNF_mapping_2025/Excel_forms\""
   ]
  },
  {
   "cell_type": "markdown",
   "id": "9ae0e2b7",
   "metadata": {},
   "source": [
    "## Prep Postcode district data"
   ]
  },
  {
   "cell_type": "code",
   "execution_count": 27,
   "id": "3710f726",
   "metadata": {},
   "outputs": [],
   "source": [
    "gdf = gpd.read_file(\"G:/Postcode_Areas/Districts.shp\")\n",
    "gdf['geometry'] = gdf['geometry'].representative_point()\n",
    "gdf['Long'] = gdf.geometry.x\n",
    "gdf['Lat'] = gdf.geometry.y\n",
    "df_postcode_lookup = gdf.drop(\"geometry\", axis = 1)\n",
    "df_postcode_lookup = df_postcode_lookup.rename(columns= {\"name\":\"Postcode\"})"
   ]
  },
  {
   "cell_type": "markdown",
   "id": "a2bb1759",
   "metadata": {},
   "source": [
    "## Prep forms data and add in postcode district"
   ]
  },
  {
   "cell_type": "code",
   "execution_count": 32,
   "id": "292bc7a8",
   "metadata": {},
   "outputs": [
    {
     "name": "stdout",
     "output_type": "stream",
     "text": [
      "SFN mapping form Agroecology at Scale_KS.xlsx\n",
      "SFN mapping form Climate Farm Demo IfA_MD_LB__updated.xlsx\n",
      "SFN mapping form James Hutton Institute_AC.xlsx\n",
      "SFN mapping form M&S FF_LB.xlsx\n",
      "SFN mapping form Organic Variety Research_DA.xlsx\n"
     ]
    }
   ],
   "source": [
    "# Set up dataset\n",
    "df_total = pd.DataFrame({ \"Farm number\":[],\"Network name\":[], \"Start year\":[], \"Web link\":[], \"Contact email\":[],\"Postcode\":[], \"Category\":[], \"Activity\":[] })\n",
    "    \n",
    "# Loop through files in forms folder\n",
    "for file in listdir(location_data):\n",
    "    # Only read in excel files\n",
    "    if file.endswith(\".xlsx\"):\n",
    "        print(file)\n",
    "\n",
    "        # Read in data\n",
    "        df = pd.read_excel(f\"{location_data}/{file}\")\n",
    "        \n",
    "        # Check data layout seems to be correct\n",
    "        assert  df.iloc[53,0] == \"Start year of farm's network membership\", \"Data is not in correct format\"\n",
    "        assert  df.iloc[12,2] == \"Farm\", \"Data is not in correct format\"\n",
    "        assert  df.iloc[15,0] == \"Postcode district eg CH8, SN10, M9\", \"Data is not in correct format\"\n",
    "    \n",
    "        # Check if form contains network web link\n",
    "        if pd.isna(df.iloc[4,2])==False:\n",
    "            # If form contains weblink, need to use openxyl to access\n",
    "            wb = openpyxl.load_workbook(f\"{location_data}/{file}\")\n",
    "            sheets = wb.sheetnames\n",
    "            ws = wb[sheets[0]]\n",
    "            network_web_link = ws.cell(row=6, column=3).hyperlink.target\n",
    "        else:\n",
    "            network_web_link = \"\"\n",
    "\n",
    "        # Set network name\n",
    "        if pd.isna(df.iloc[4,1])==False:\n",
    "            network_name = df.iloc[4,1]\n",
    "        else:\n",
    "            network_name = \"\"\n",
    "        # Set network contact email\n",
    "        if pd.isna(df.iloc[4,3])==False:\n",
    "            network_email = df.iloc[4,3]\n",
    "        else:\n",
    "            network_email = \"\"\n",
    "        \n",
    "\n",
    "        # Get list of start years for each farm\n",
    "        df_year = df[df.iloc[:,0] == \"Start year of farm's network membership\"]\n",
    "        year_list = df_year.iloc[:,2:].values.flatten().tolist()\n",
    "        # Check no missing start year (removed for now as one form does not have start years)\n",
    "        # assert pd.isna(year_list).any() == False, \"Missing start year\"\n",
    "\n",
    "        # Get list of farm postcodes for each farm\n",
    "        df_postcode = df[df.iloc[:,0] == \"Postcode district eg CH8, SN10, M9\"]\n",
    "        postcode_list = df_postcode.iloc[:,2:].values.flatten().tolist()\n",
    "        # Check no missing postcode\n",
    "        assert pd.isna(postcode_list).any() == False, \"Missing postcode\"\n",
    "\n",
    "        # Select rows with information we need\n",
    "        df_clean = df.iloc[13:52,:]\n",
    "        df_clean.iloc[0,0] = \"Category\"\n",
    "        # Set first row as column headers and remove that row\n",
    "        df_clean.columns = df_clean.iloc[0]\n",
    "        df_clean = df_clean.iloc[1:]\n",
    "        df_clean.iloc[:,0]  = df_clean.iloc[:,0].ffill(axis = 0)\n",
    "        # Remove 2 uneeded rows in middle of dataframe\n",
    "        df_clean= df_clean.iloc[4:,:]\n",
    "\n",
    "        # Get list of farm numbers\n",
    "        farm_number_list = df_clean.iloc[:,2:].columns.tolist()\n",
    "        # Check no missing farm number\n",
    "        assert pd.isna(farm_number_list).any() == False, \"Missing Farm number\"\n",
    "        \n",
    "        # Convert dataframe from wide to long\n",
    "        df_melted = pd.melt(df_clean, id_vars = [\"Category\", np.nan], value_vars=farm_number_list, var_name=\"Farm number\")\n",
    "        #Remove all values with Na as not filled with x\n",
    "        df_filter = df_melted.dropna(subset = [\"value\"])\n",
    "        # Rename columns\n",
    "        df_filter = df_filter.rename({np.nan:\"Activity\"}, axis = 1)\n",
    "        # Remove value column\n",
    "        df_filter = df_filter.drop(\"value\", axis = 1)\n",
    "\n",
    "        # Template dataset \n",
    "        df_file = pd.DataFrame({  \"Farm number\":[],\"Network name\":[], \"Start year\":[], \"Web link\":[], \"Contact email\":[],\"Postcode\":[], \"Category\":[], \"Activity\":[]})\n",
    "        #Counter used in for loop\n",
    "        x = 0\n",
    "        # Loop through each farm in form\n",
    "        for farm in df_filter['Farm number'].unique():\n",
    "            df_farm = df_filter[df_filter[\"Farm number\"]== farm]\n",
    "            # Add relevant info for farm\n",
    "            df_farm['Postcode'] = postcode_list[x]\n",
    "            df_farm['Start year'] = year_list[x]\n",
    "            df_farm['Network name'] = network_name\n",
    "            df_farm['Web link'] = network_web_link\n",
    "            df_farm['Contact email'] = network_email\n",
    "            # Add one to counter to ensure relevant info is added\n",
    "            x+=1\n",
    "            df_file = pd.concat([df_file,df_farm])\n",
    "\n",
    "        df_total = pd.concat([df_total,df_file])\n",
    "\n",
    "        # Check that columns which should not have NA are complete\n",
    "        assert df_total[['Activity',\"Category\", \"Farm number\", \"Postcode\"]].isnull().values.any() == False, \"Column contains NA values\"\n",
    "\n",
    "# Add on Postcode distric lon lat info\n",
    "df_total_postcode = pd.merge(df_total, df_postcode_lookup,how = \"left\", on = \"Postcode\" )\n",
    "# Write out to csv\n",
    "df_total_postcode.to_csv(f\"ExportData_{datetime.today().strftime('%Y_%m_%d')}.csv\", index = False)"
   ]
  },
  {
   "cell_type": "code",
   "execution_count": null,
   "id": "e727217c",
   "metadata": {},
   "outputs": [],
   "source": []
  },
  {
   "cell_type": "code",
   "execution_count": null,
   "id": "0484d4be",
   "metadata": {},
   "outputs": [],
   "source": []
  }
 ],
 "metadata": {
  "kernelspec": {
   "display_name": "sfn-mapping-env",
   "language": "python",
   "name": "python3"
  },
  "language_info": {
   "codemirror_mode": {
    "name": "ipython",
    "version": 3
   },
   "file_extension": ".py",
   "mimetype": "text/x-python",
   "name": "python",
   "nbconvert_exporter": "python",
   "pygments_lexer": "ipython3",
   "version": "3.13.5"
  }
 },
 "nbformat": 4,
 "nbformat_minor": 5
}
